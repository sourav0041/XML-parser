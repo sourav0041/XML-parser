{
 "cells": [
  {
   "cell_type": "code",
   "execution_count": 1,
   "id": "35ca8109",
   "metadata": {},
   "outputs": [],
   "source": [
    "def xml(url):\n",
    "    import pandas as pd\n",
    "    import numpy as np\n",
    "    import elementpath\n",
    "    from xml.etree import ElementTree as ET\n",
    "    mytree = ET.parse(url)\n",
    "    myroot = mytree.getroot()\n",
    "    \n",
    "    Job = []\n",
    "    for job_bd in myroot.iter('COMBINED-PAYMENT-HISTORY'):\n",
    "        Job.append(job_bd.text)\n",
    "    newlist = []\n",
    "    for word in Job:\n",
    "        word = word.split(\"|\")\n",
    "        newlist.append(word)\n",
    "    df = pd.DataFrame(newlist)\n",
    "    \n",
    "    for i in df.columns.values:\n",
    "        df[i] = df[i].str[9:12]\n",
    "    df = df.replace(regex=[r'\\D+'], value='')\n",
    "    for i in df.columns.values:\n",
    "        df[i] = pd.to_numeric(df[i])\n",
    "    df.replace(to_replace=0.0, value=np.nan,inplace=True)\n",
    "    df['new'] = df.apply(lambda _: '', axis=1)\n",
    "    \n",
    "    Og = df.melt(id_vars=[\"new\"]).value.dropna()\n",
    "    Og = pd.DataFrame(Og)\n",
    "    Og.dropna(inplace=True)\n",
    "    Og.reset_index(inplace=True, drop=True)\n",
    "    \n",
    "    amt = []\n",
    "    for i in myroot.iter('DISBURSED-AMT'):\n",
    "        amt.append(i.text.replace(\",\",''))\n",
    "    amount=[int(x) for x in amt]\n",
    "    Total_amount=[sum(amount)]\n",
    "    \n",
    "    Total_amount=pd.DataFrame(Total_amount)\n",
    "    Total_amount.columns=['Total DISBURSED-AMT']\n",
    "    orginal_data = pd.concat([Og,Total_amount],axis=\"columns\")\n",
    "    return(orginal_data)"
   ]
  },
  {
   "cell_type": "code",
   "execution_count": 2,
   "id": "03817b52",
   "metadata": {},
   "outputs": [],
   "source": [
    "Customer_1 = xml('C:\\\\Users\\\\soura\\\\OneDrive\\\\Desktop\\\\Coding_data\\\\customer14235_loan14235_crif_report.html.xml')\n",
    "Customer_2 = xml('C:\\\\Users\\\\soura\\\\OneDrive\\\\Desktop\\\\Coding_data\\\\customer16475_loan16475_crif_report.html.xml')\n",
    "Customer_3 = xml('C:\\\\Users\\\\soura\\\\OneDrive\\\\Desktop\\\\Coding_data\\\\customer40409_loan40409_crif_report.html.xml')\n",
    "Customer_4 = xml('C:\\\\Users\\\\soura\\\\OneDrive\\\\Desktop\\\\Coding_data\\\\customer773504_loan774538_crif_report.html.xml')\n",
    "Customer_5 = xml('C:\\\\Users\\\\soura\\\\OneDrive\\\\Desktop\\\\Coding_data\\\\customer787561_loan788638_crif_report.html.xml')\n",
    "Customer_6 = xml('C:\\\\Users\\\\soura\\\\OneDrive\\\\Desktop\\\\Coding_data\\\\customer794397_loan795497_crif_report.html.xml')\n",
    "Customer_7 = xml('C:\\\\Users\\\\soura\\\\OneDrive\\\\Desktop\\\\Coding_data\\\\customer898231_loan899591_crif_report.html.xml')\n",
    "Customer_8 = xml('C:\\\\Users\\\\soura\\\\OneDrive\\\\Desktop\\\\Coding_data\\\\customer1113697_loan1115483_crif_report.html.xml')\n",
    "Customer_9 = xml('C:\\\\Users\\\\soura\\\\OneDrive\\\\Desktop\\\\Coding_data\\\\customer1129550_loan1131339_crif_report.html.xml')\n",
    "Customer_10 = xml('C:\\\\Users\\\\soura\\\\OneDrive\\\\Desktop\\\\Coding_data\\\\customer1195586_loan1197471_crif_report.html.xml')"
   ]
  },
  {
   "cell_type": "code",
   "execution_count": 3,
   "id": "afce67bc",
   "metadata": {},
   "outputs": [],
   "source": [
    "import pandas as pd\n",
    "DPD= pd.concat([Customer_1,Customer_2,Customer_3,Customer_4,Customer_5,Customer_6,Customer_7,Customer_8,Customer_9,Customer_10],axis=\"columns\")"
   ]
  },
  {
   "cell_type": "code",
   "execution_count": 4,
   "id": "9c1883e9",
   "metadata": {},
   "outputs": [],
   "source": [
    "DPD.to_excel('DPD.xlsx')"
   ]
  },
  {
   "cell_type": "code",
   "execution_count": 5,
   "id": "c245a26e",
   "metadata": {},
   "outputs": [],
   "source": [
    "df=pd.read_excel('C:\\\\Users\\\\soura\\\\DPD.xlsx')"
   ]
  },
  {
   "cell_type": "code",
   "execution_count": 6,
   "id": "840130cc",
   "metadata": {},
   "outputs": [],
   "source": [
    "df.drop(columns='Unnamed: 0',inplace =True)"
   ]
  },
  {
   "cell_type": "code",
   "execution_count": 7,
   "id": "fe6f5c8c",
   "metadata": {},
   "outputs": [
    {
     "data": {
      "text/html": [
       "<div>\n",
       "<style scoped>\n",
       "    .dataframe tbody tr th:only-of-type {\n",
       "        vertical-align: middle;\n",
       "    }\n",
       "\n",
       "    .dataframe tbody tr th {\n",
       "        vertical-align: top;\n",
       "    }\n",
       "\n",
       "    .dataframe thead th {\n",
       "        text-align: right;\n",
       "    }\n",
       "</style>\n",
       "<table border=\"1\" class=\"dataframe\">\n",
       "  <thead>\n",
       "    <tr style=\"text-align: right;\">\n",
       "      <th></th>\n",
       "      <th>value_1</th>\n",
       "      <th>Total DISBURSED-AMT_1</th>\n",
       "      <th>value_2</th>\n",
       "      <th>Total DISBURSED-AMT_2</th>\n",
       "      <th>value_3</th>\n",
       "      <th>Total DISBURSED-AMT_3</th>\n",
       "      <th>value_4</th>\n",
       "      <th>Total DISBURSED-AMT_4</th>\n",
       "      <th>value_5</th>\n",
       "      <th>Total DISBURSED-AMT_5</th>\n",
       "      <th>value_6</th>\n",
       "      <th>Total DISBURSED-AMT_6</th>\n",
       "      <th>value_7</th>\n",
       "      <th>Total DISBURSED-AMT_7</th>\n",
       "      <th>value_8</th>\n",
       "      <th>Total DISBURSED-AMT_8</th>\n",
       "      <th>value_9</th>\n",
       "      <th>Total DISBURSED-AMT_9</th>\n",
       "      <th>value_10</th>\n",
       "      <th>Total DISBURSED-AMT_10</th>\n",
       "    </tr>\n",
       "  </thead>\n",
       "  <tbody>\n",
       "    <tr>\n",
       "      <th>0</th>\n",
       "      <td>60.0</td>\n",
       "      <td>9485895.0</td>\n",
       "      <td>77.0</td>\n",
       "      <td>2868467.0</td>\n",
       "      <td>93.0</td>\n",
       "      <td>1075308.0</td>\n",
       "      <td>141.0</td>\n",
       "      <td>795601.0</td>\n",
       "      <td>89.0</td>\n",
       "      <td>810839.0</td>\n",
       "      <td>171.0</td>\n",
       "      <td>910791.0</td>\n",
       "      <td>88</td>\n",
       "      <td>13005665.0</td>\n",
       "      <td>175.0</td>\n",
       "      <td>1110420.0</td>\n",
       "      <td>141.0</td>\n",
       "      <td>795601.0</td>\n",
       "      <td>90.0</td>\n",
       "      <td>8118705.0</td>\n",
       "    </tr>\n",
       "    <tr>\n",
       "      <th>1</th>\n",
       "      <td>180.0</td>\n",
       "      <td>NaN</td>\n",
       "      <td>52.0</td>\n",
       "      <td>NaN</td>\n",
       "      <td>5.0</td>\n",
       "      <td>NaN</td>\n",
       "      <td>53.0</td>\n",
       "      <td>NaN</td>\n",
       "      <td>89.0</td>\n",
       "      <td>NaN</td>\n",
       "      <td>52.0</td>\n",
       "      <td>NaN</td>\n",
       "      <td>67</td>\n",
       "      <td>NaN</td>\n",
       "      <td>114.0</td>\n",
       "      <td>NaN</td>\n",
       "      <td>53.0</td>\n",
       "      <td>NaN</td>\n",
       "      <td>90.0</td>\n",
       "      <td>NaN</td>\n",
       "    </tr>\n",
       "    <tr>\n",
       "      <th>2</th>\n",
       "      <td>120.0</td>\n",
       "      <td>NaN</td>\n",
       "      <td>78.0</td>\n",
       "      <td>NaN</td>\n",
       "      <td>63.0</td>\n",
       "      <td>NaN</td>\n",
       "      <td>93.0</td>\n",
       "      <td>NaN</td>\n",
       "      <td>31.0</td>\n",
       "      <td>NaN</td>\n",
       "      <td>60.0</td>\n",
       "      <td>NaN</td>\n",
       "      <td>43</td>\n",
       "      <td>NaN</td>\n",
       "      <td>172.0</td>\n",
       "      <td>NaN</td>\n",
       "      <td>93.0</td>\n",
       "      <td>NaN</td>\n",
       "      <td>80.0</td>\n",
       "      <td>NaN</td>\n",
       "    </tr>\n",
       "    <tr>\n",
       "      <th>3</th>\n",
       "      <td>30.0</td>\n",
       "      <td>NaN</td>\n",
       "      <td>49.0</td>\n",
       "      <td>NaN</td>\n",
       "      <td>329.0</td>\n",
       "      <td>NaN</td>\n",
       "      <td>334.0</td>\n",
       "      <td>NaN</td>\n",
       "      <td>77.0</td>\n",
       "      <td>NaN</td>\n",
       "      <td>179.0</td>\n",
       "      <td>NaN</td>\n",
       "      <td>67</td>\n",
       "      <td>NaN</td>\n",
       "      <td>210.0</td>\n",
       "      <td>NaN</td>\n",
       "      <td>334.0</td>\n",
       "      <td>NaN</td>\n",
       "      <td>66.0</td>\n",
       "      <td>NaN</td>\n",
       "    </tr>\n",
       "    <tr>\n",
       "      <th>4</th>\n",
       "      <td>120.0</td>\n",
       "      <td>NaN</td>\n",
       "      <td>46.0</td>\n",
       "      <td>NaN</td>\n",
       "      <td>28.0</td>\n",
       "      <td>NaN</td>\n",
       "      <td>125.0</td>\n",
       "      <td>NaN</td>\n",
       "      <td>31.0</td>\n",
       "      <td>NaN</td>\n",
       "      <td>60.0</td>\n",
       "      <td>NaN</td>\n",
       "      <td>67</td>\n",
       "      <td>NaN</td>\n",
       "      <td>73.0</td>\n",
       "      <td>NaN</td>\n",
       "      <td>125.0</td>\n",
       "      <td>NaN</td>\n",
       "      <td>92.0</td>\n",
       "      <td>NaN</td>\n",
       "    </tr>\n",
       "  </tbody>\n",
       "</table>\n",
       "</div>"
      ],
      "text/plain": [
       "   value_1  Total DISBURSED-AMT_1  value_2  Total DISBURSED-AMT_2  value_3  \\\n",
       "0     60.0              9485895.0     77.0              2868467.0     93.0   \n",
       "1    180.0                    NaN     52.0                    NaN      5.0   \n",
       "2    120.0                    NaN     78.0                    NaN     63.0   \n",
       "3     30.0                    NaN     49.0                    NaN    329.0   \n",
       "4    120.0                    NaN     46.0                    NaN     28.0   \n",
       "\n",
       "   Total DISBURSED-AMT_3  value_4  Total DISBURSED-AMT_4  value_5  \\\n",
       "0              1075308.0    141.0               795601.0     89.0   \n",
       "1                    NaN     53.0                    NaN     89.0   \n",
       "2                    NaN     93.0                    NaN     31.0   \n",
       "3                    NaN    334.0                    NaN     77.0   \n",
       "4                    NaN    125.0                    NaN     31.0   \n",
       "\n",
       "   Total DISBURSED-AMT_5  value_6  Total DISBURSED-AMT_6  value_7  \\\n",
       "0               810839.0    171.0               910791.0       88   \n",
       "1                    NaN     52.0                    NaN       67   \n",
       "2                    NaN     60.0                    NaN       43   \n",
       "3                    NaN    179.0                    NaN       67   \n",
       "4                    NaN     60.0                    NaN       67   \n",
       "\n",
       "   Total DISBURSED-AMT_7  value_8  Total DISBURSED-AMT_8  value_9  \\\n",
       "0             13005665.0    175.0              1110420.0    141.0   \n",
       "1                    NaN    114.0                    NaN     53.0   \n",
       "2                    NaN    172.0                    NaN     93.0   \n",
       "3                    NaN    210.0                    NaN    334.0   \n",
       "4                    NaN     73.0                    NaN    125.0   \n",
       "\n",
       "   Total DISBURSED-AMT_9  value_10  Total DISBURSED-AMT_10  \n",
       "0               795601.0      90.0               8118705.0  \n",
       "1                    NaN      90.0                     NaN  \n",
       "2                    NaN      80.0                     NaN  \n",
       "3                    NaN      66.0                     NaN  \n",
       "4                    NaN      92.0                     NaN  "
      ]
     },
     "execution_count": 7,
     "metadata": {},
     "output_type": "execute_result"
    }
   ],
   "source": [
    "df.head()"
   ]
  },
  {
   "cell_type": "code",
   "execution_count": 8,
   "id": "ef74cf04",
   "metadata": {},
   "outputs": [
    {
     "name": "stdout",
     "output_type": "stream",
     "text": [
      "(65.78947368421053, 'value_7')\n"
     ]
    }
   ],
   "source": [
    "#percentage of trades are with 30+ DPD\n",
    "percentage = []\n",
    "for i in [item for item in df.columns.values if item.startswith('v')]:\n",
    "    percentage.append((len(df.loc[df[i]>30])/len(df)*100,i))\n",
    "print(max(percentage))"
   ]
  },
  {
   "cell_type": "code",
   "execution_count": 9,
   "id": "819e4895",
   "metadata": {},
   "outputs": [
    {
     "name": "stdout",
     "output_type": "stream",
     "text": [
      "Total DISBURSED-AMT_1      9485895.0\n",
      "Total DISBURSED-AMT_2      2868467.0\n",
      "Total DISBURSED-AMT_3      1075308.0\n",
      "Total DISBURSED-AMT_4       795601.0\n",
      "Total DISBURSED-AMT_5       810839.0\n",
      "Total DISBURSED-AMT_6       910791.0\n",
      "Total DISBURSED-AMT_7     13005665.0\n",
      "Total DISBURSED-AMT_8      1110420.0\n",
      "Total DISBURSED-AMT_9       795601.0\n",
      "Total DISBURSED-AMT_10     8118705.0\n",
      "Name: 0, dtype: float64\n"
     ]
    }
   ],
   "source": [
    "#sum of total disbursed amount for all loans for each customer\n",
    "Sum_amount = [col for col in df if col.startswith('T')]\n",
    "print(df[Sum_amount].iloc[0])"
   ]
  },
  {
   "cell_type": "code",
   "execution_count": 10,
   "id": "8e492bcd",
   "metadata": {},
   "outputs": [
    {
     "data": {
      "text/plain": [
       "[(17, 'value_1'),\n",
       " (12, 'value_2'),\n",
       " (13, 'value_3'),\n",
       " (21, 'value_4'),\n",
       " (7, 'value_5'),\n",
       " (15, 'value_6'),\n",
       " (25, 'value_7'),\n",
       " (16, 'value_8'),\n",
       " (21, 'value_9'),\n",
       " (16, 'value_10')]"
      ]
     },
     "execution_count": 10,
     "metadata": {},
     "output_type": "execute_result"
    }
   ],
   "source": [
    "#number of months of 30+ due per trade\n",
    "p=[]\n",
    "for i in [item for item in df.columns.values if item.startswith('v')]:\n",
    "    p.append((len(df.loc[df[i]>30]),i))\n",
    "p"
   ]
  },
  {
   "cell_type": "code",
   "execution_count": 11,
   "id": "0a1bb8eb",
   "metadata": {},
   "outputs": [
    {
     "name": "stdout",
     "output_type": "stream",
     "text": [
      "(25, 'value_7')\n"
     ]
    }
   ],
   "source": [
    "#maximum number of months of 30+ due per trade\n",
    "print(max(p))"
   ]
  },
  {
   "cell_type": "code",
   "execution_count": null,
   "id": "05d52ea3",
   "metadata": {},
   "outputs": [],
   "source": []
  },
  {
   "cell_type": "code",
   "execution_count": null,
   "id": "f804fade",
   "metadata": {},
   "outputs": [],
   "source": []
  }
 ],
 "metadata": {
  "kernelspec": {
   "display_name": "Python 3 (ipykernel)",
   "language": "python",
   "name": "python3"
  },
  "language_info": {
   "codemirror_mode": {
    "name": "ipython",
    "version": 3
   },
   "file_extension": ".py",
   "mimetype": "text/x-python",
   "name": "python",
   "nbconvert_exporter": "python",
   "pygments_lexer": "ipython3",
   "version": "3.9.7"
  }
 },
 "nbformat": 4,
 "nbformat_minor": 5
}
